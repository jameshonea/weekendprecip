{
 "cells": [
  {
   "cell_type": "markdown",
   "metadata": {},
   "source": [
    "I heard someone say the other day that due to the assymetric nature of human industrial activity, certain days of the week have a higher probability of rain than others. To check this, I want to examine weather data from a local station to see if this is true and if the effect has increased as time has gone on."
   ]
  },
  {
   "cell_type": "code",
   "execution_count": 1,
   "metadata": {},
   "outputs": [],
   "source": [
    "import pandas as pd\n",
    "import matplotlib.pyplot as plt"
   ]
  },
  {
   "cell_type": "code",
   "execution_count": 10,
   "metadata": {},
   "outputs": [
    {
     "name": "stdout",
     "output_type": "stream",
     "text": [
      "       STATION               NAME  LATITUDE  LONGITUDE  ELEVATION        DATE  \\\n",
      "0  USC00129557  WHITESTOWN, IN US   39.9962   -86.3543      286.8  1901-01-01   \n",
      "1  USC00129557  WHITESTOWN, IN US   39.9962   -86.3543      286.8  1901-01-02   \n",
      "2  USC00129557  WHITESTOWN, IN US   39.9962   -86.3543      286.8  1901-01-03   \n",
      "3  USC00129557  WHITESTOWN, IN US   39.9962   -86.3543      286.8  1901-01-04   \n",
      "4  USC00129557  WHITESTOWN, IN US   39.9962   -86.3543      286.8  1901-01-05   \n",
      "\n",
      "   DAPR  MDPR  PRCP  SNOW  ...  TOBS  WT01  WT03  WT04  WT05  WT06  WT08  \\\n",
      "0   NaN   NaN   0.0   0.0  ...  10.0   NaN   NaN   NaN   NaN   NaN   NaN   \n",
      "1   NaN   NaN   0.0   0.0  ...  18.0   NaN   NaN   NaN   NaN   NaN   NaN   \n",
      "2   NaN   NaN   0.0   0.0  ...  24.0   NaN   NaN   NaN   NaN   NaN   NaN   \n",
      "3   NaN   NaN   0.0   0.0  ...  35.0   NaN   NaN   NaN   NaN   NaN   NaN   \n",
      "4   NaN   NaN   0.0   0.0  ...  27.0   NaN   NaN   NaN   NaN   NaN   NaN   \n",
      "\n",
      "   WT09  WT11  WT14  \n",
      "0   NaN   NaN   NaN  \n",
      "1   NaN   NaN   NaN  \n",
      "2   NaN   NaN   NaN  \n",
      "3   NaN   NaN   NaN  \n",
      "4   NaN   NaN   NaN  \n",
      "\n",
      "[5 rows x 23 columns]\n",
      "(43111, 23)\n"
     ]
    }
   ],
   "source": [
    "data = pd.read_csv(\"C:\\csv\\whitestownweather.csv\")\n",
    "print(data.head())\n",
    "print(data.shape)"
   ]
  },
  {
   "cell_type": "markdown",
   "metadata": {},
   "source": [
    "We only need a couple columns, namely the data and the total precip for that day. In addition, we'd only like to keep rows where the precipitation is non-zero."
   ]
  },
  {
   "cell_type": "code",
   "execution_count": 12,
   "metadata": {},
   "outputs": [
    {
     "data": {
      "text/plain": [
       "13452"
      ]
     },
     "execution_count": 12,
     "metadata": {},
     "output_type": "execute_result"
    }
   ],
   "source": [
    "precip = data[['DATE', 'PRCP']]\n",
    "precip = precip[precip['PRCP'] > 0]\n",
    "precip.shape[0]"
   ]
  },
  {
   "cell_type": "markdown",
   "metadata": {},
   "source": [
    "It looks like on average, it rains on about 13452/43111 =  of days. Let's figure out what day of the week each row falls on. Then we can count the number of rainy days per day of week."
   ]
  },
  {
   "cell_type": "code",
   "execution_count": 25,
   "metadata": {},
   "outputs": [
    {
     "data": {
      "image/png": "[encoded data removed]",
      "text/plain": [
       "<Figure size 432x288 with 1 Axes>"
      ]
     },
     "metadata": {
      "needs_background": "light"
     },
     "output_type": "display_data"
    }
   ],
   "source": [
    "precip['TIME'] = pd.to_datetime(precip['DATE'])\n",
    "precip['DoW'] = precip['TIME'].dt.weekday_name\n",
    "precip['DoW'].value_counts()\n",
    "\n",
    "%matplotlib inline\n",
    "\n",
    "precip['DoW'].value_counts().plot.bar()\n",
    "plt.show()"
   ]
  },
  {
   "cell_type": "markdown",
   "metadata": {},
   "source": [
    "There doesn't appear to be any significant difference in precipitation between weekdays and weekends. In fact, Sunday and Saturday are the least rainy days overall (though not by much). There are two ways I could check this further. I could examine the total rainfall on each day to see if there is an imbalance, and I could check more weather stations to see if a pattern emerges. Let's do the former first."
   ]
  },
  {
   "cell_type": "code",
   "execution_count": null,
   "metadata": {},
   "outputs": [],
   "source": []
  }
 ],
 "metadata": {
  "kernelspec": {
   "display_name": "Python 3",
   "language": "python",
   "name": "python3"
  },
  "language_info": {
   "codemirror_mode": {
    "name": "ipython",
    "version": 3
   },
   "file_extension": ".py",
   "mimetype": "text/x-python",
   "name": "python",
   "nbconvert_exporter": "python",
   "pygments_lexer": "ipython3",
   "version": "3.7.3"
  }
 },
 "nbformat": 4,
 "nbformat_minor": 2
}
